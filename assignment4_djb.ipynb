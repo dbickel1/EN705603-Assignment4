{
 "cells": [
  {
   "cell_type": "markdown",
   "metadata": {},
   "source": [
    "## Load packages"
   ]
  },
  {
   "cell_type": "code",
   "execution_count": 1,
   "metadata": {},
   "outputs": [],
   "source": [
    "import pandas as pd\n",
    "import numpy as np\n",
    "from sklearn.preprocessing import OneHotEncoder"
   ]
  },
  {
   "cell_type": "markdown",
   "metadata": {},
   "source": [
    "## Load data"
   ]
  },
  {
   "cell_type": "code",
   "execution_count": 2,
   "metadata": {},
   "outputs": [],
   "source": [
    "data = pd.read_csv('cars.csv')"
   ]
  },
  {
   "cell_type": "markdown",
   "metadata": {},
   "source": [
    "## Drop bogus data features"
   ]
  },
  {
   "cell_type": "code",
   "execution_count": 3,
   "metadata": {},
   "outputs": [],
   "source": [
    "# Drop 'location_region' column because data is bogus\n",
    "data = data.drop(['location_region'], axis=1)\n",
    "\n",
    "# Drop \"feature_n\" columns because I'm unsure what data they convey\n",
    "for i in range(10):\n",
    "    data = data.drop(['feature_'+str(i)], axis=1)"
   ]
  },
  {
   "cell_type": "markdown",
   "metadata": {},
   "source": [
    "## Seperate out features that need to be transformed to numeric"
   ]
  },
  {
   "cell_type": "code",
   "execution_count": 4,
   "metadata": {},
   "outputs": [
    {
     "name": "stdout",
     "output_type": "stream",
     "text": [
      "Feature = manufacturer_name, Type = <class 'str'>\n",
      "Feature = model_name, Type = <class 'str'>\n",
      "Feature = transmission, Type = <class 'str'>\n",
      "Feature = color, Type = <class 'str'>\n",
      "Feature = odometer_value, Type = <class 'numpy.int64'>\n",
      "Feature = year_produced, Type = <class 'numpy.int64'>\n",
      "Feature = engine_fuel, Type = <class 'str'>\n",
      "Feature = engine_has_gas, Type = <class 'numpy.bool_'>\n",
      "Feature = engine_type, Type = <class 'str'>\n",
      "Feature = engine_capacity, Type = <class 'numpy.float64'>\n",
      "Feature = body_type, Type = <class 'str'>\n",
      "Feature = has_warranty, Type = <class 'numpy.bool_'>\n",
      "Feature = state, Type = <class 'str'>\n",
      "Feature = drivetrain, Type = <class 'str'>\n",
      "Feature = price_usd, Type = <class 'numpy.float64'>\n",
      "Feature = is_exchangeable, Type = <class 'numpy.bool_'>\n",
      "Feature = number_of_photos, Type = <class 'numpy.int64'>\n",
      "Feature = up_counter, Type = <class 'numpy.int64'>\n",
      "Feature = duration_listed, Type = <class 'numpy.int64'>\n"
     ]
    }
   ],
   "source": [
    "bool_features = []\n",
    "strg_features = []\n",
    "features = data.columns\n",
    "for feature in features:\n",
    "    print('Feature = {}, Type = {}'.format(feature,type(data[feature][0])))\n",
    "    if type(data[feature][0]) == np.bool_:\n",
    "        bool_features.append(feature)\n",
    "    if type(data[feature][0]) == str:\n",
    "        strg_features.append(feature)"
   ]
  },
  {
   "cell_type": "markdown",
   "metadata": {},
   "source": [
    "## Convert boolean data features to numeric 1/0\n",
    "*Boolean data can be converted to 1 for True or 0 for False to encode it numerically for downstream machine learning.*"
   ]
  },
  {
   "cell_type": "code",
   "execution_count": 5,
   "metadata": {},
   "outputs": [],
   "source": [
    "for bool_feature in bool_features:\n",
    "    data.loc[data[bool_feature] == True, bool_feature] = 1\n",
    "    data.loc[data[bool_feature] == False, bool_feature] = 0"
   ]
  },
  {
   "cell_type": "markdown",
   "metadata": {},
   "source": [
    "## One-hot-encode string data features\n",
    "*Features that have string data (non-boolean) with more than 2 possible values need to be one-hot-encoded so that downstream machine learning algorithm can read the data properly. You can't just convert the different string values to integers (1, 2, 3, ... 81, ...) because machine learning algorithms will ascribe higher value to high integers when their should not be. For these data features, all values are equally valuable, they're just different and should be encoded as such.*"
   ]
  },
  {
   "cell_type": "code",
   "execution_count": 6,
   "metadata": {},
   "outputs": [
    {
     "name": "stdout",
     "output_type": "stream",
     "text": [
      "Feature manufacturer_name, Unique values = 55\n",
      "Feature model_name, Unique values = 1118\n",
      "Feature transmission, Unique values = 2\n",
      "Feature color, Unique values = 12\n",
      "Feature engine_fuel, Unique values = 6\n",
      "Feature engine_type, Unique values = 3\n",
      "Feature body_type, Unique values = 12\n",
      "Feature state, Unique values = 3\n",
      "Feature drivetrain, Unique values = 3\n"
     ]
    }
   ],
   "source": [
    "print()\n",
    "for strg_feature in strg_features:\n",
    "    # Print current feature's unique values\n",
    "    print('Feature {}, Unique values = {}'.format(strg_feature, len(data[strg_feature].unique())))\n",
    "    # One-hot-encode current categorical feature\n",
    "    one_hot_encoder = OneHotEncoder(sparse=False)\n",
    "    cur_vector = np.array(data[strg_feature].values).reshape(-1,1)\n",
    "    cur_one_hot = one_hot_encoder.fit_transform(cur_vector)\n",
    "    # Create column headings for one-hot-encoded categorical feature\n",
    "    cols_to_add = []\n",
    "    for i in range(cur_one_hot.shape[1]): cols_to_add.append(strg_feature+'_'+str(i))\n",
    "    # Drop categorical feature and replace it with one-hot-encoded version\n",
    "    data = data.drop(strg_feature, axis=1)\n",
    "    data = pd.concat([data,pd.DataFrame(cur_one_hot,columns=cols_to_add)], axis=1)"
   ]
  },
  {
   "cell_type": "code",
   "execution_count": 8,
   "metadata": {},
   "outputs": [
    {
     "name": "stdout",
     "output_type": "stream",
     "text": [
      "Data size = 38531 x 1224\n"
     ]
    }
   ],
   "source": [
    "# Print out size of transformed data\n",
    "print('Data size = {} x {}'.format(data.shape[0],data.shape[1]))"
   ]
  },
  {
   "cell_type": "code",
   "execution_count": 10,
   "metadata": {},
   "outputs": [
    {
     "data": {
      "text/html": [
       "<div>\n",
       "<style scoped>\n",
       "    .dataframe tbody tr th:only-of-type {\n",
       "        vertical-align: middle;\n",
       "    }\n",
       "\n",
       "    .dataframe tbody tr th {\n",
       "        vertical-align: top;\n",
       "    }\n",
       "\n",
       "    .dataframe thead th {\n",
       "        text-align: right;\n",
       "    }\n",
       "</style>\n",
       "<table border=\"1\" class=\"dataframe\">\n",
       "  <thead>\n",
       "    <tr style=\"text-align: right;\">\n",
       "      <th></th>\n",
       "      <th>odometer_value</th>\n",
       "      <th>year_produced</th>\n",
       "      <th>engine_has_gas</th>\n",
       "      <th>engine_capacity</th>\n",
       "      <th>has_warranty</th>\n",
       "      <th>price_usd</th>\n",
       "      <th>is_exchangeable</th>\n",
       "      <th>number_of_photos</th>\n",
       "      <th>up_counter</th>\n",
       "      <th>duration_listed</th>\n",
       "      <th>...</th>\n",
       "      <th>body_type_8</th>\n",
       "      <th>body_type_9</th>\n",
       "      <th>body_type_10</th>\n",
       "      <th>body_type_11</th>\n",
       "      <th>state_0</th>\n",
       "      <th>state_1</th>\n",
       "      <th>state_2</th>\n",
       "      <th>drivetrain_0</th>\n",
       "      <th>drivetrain_1</th>\n",
       "      <th>drivetrain_2</th>\n",
       "    </tr>\n",
       "  </thead>\n",
       "  <tbody>\n",
       "    <tr>\n",
       "      <th>0</th>\n",
       "      <td>190000</td>\n",
       "      <td>2010</td>\n",
       "      <td>0</td>\n",
       "      <td>2.5</td>\n",
       "      <td>0</td>\n",
       "      <td>10900.00</td>\n",
       "      <td>0</td>\n",
       "      <td>9</td>\n",
       "      <td>13</td>\n",
       "      <td>16</td>\n",
       "      <td>...</td>\n",
       "      <td>0.0</td>\n",
       "      <td>0.0</td>\n",
       "      <td>1.0</td>\n",
       "      <td>0.0</td>\n",
       "      <td>0.0</td>\n",
       "      <td>0.0</td>\n",
       "      <td>1.0</td>\n",
       "      <td>1.0</td>\n",
       "      <td>0.0</td>\n",
       "      <td>0.0</td>\n",
       "    </tr>\n",
       "    <tr>\n",
       "      <th>1</th>\n",
       "      <td>290000</td>\n",
       "      <td>2002</td>\n",
       "      <td>0</td>\n",
       "      <td>3.0</td>\n",
       "      <td>0</td>\n",
       "      <td>5000.00</td>\n",
       "      <td>1</td>\n",
       "      <td>12</td>\n",
       "      <td>54</td>\n",
       "      <td>83</td>\n",
       "      <td>...</td>\n",
       "      <td>0.0</td>\n",
       "      <td>0.0</td>\n",
       "      <td>1.0</td>\n",
       "      <td>0.0</td>\n",
       "      <td>0.0</td>\n",
       "      <td>0.0</td>\n",
       "      <td>1.0</td>\n",
       "      <td>1.0</td>\n",
       "      <td>0.0</td>\n",
       "      <td>0.0</td>\n",
       "    </tr>\n",
       "    <tr>\n",
       "      <th>2</th>\n",
       "      <td>402000</td>\n",
       "      <td>2001</td>\n",
       "      <td>0</td>\n",
       "      <td>2.5</td>\n",
       "      <td>0</td>\n",
       "      <td>2800.00</td>\n",
       "      <td>1</td>\n",
       "      <td>4</td>\n",
       "      <td>72</td>\n",
       "      <td>151</td>\n",
       "      <td>...</td>\n",
       "      <td>0.0</td>\n",
       "      <td>1.0</td>\n",
       "      <td>0.0</td>\n",
       "      <td>0.0</td>\n",
       "      <td>0.0</td>\n",
       "      <td>0.0</td>\n",
       "      <td>1.0</td>\n",
       "      <td>1.0</td>\n",
       "      <td>0.0</td>\n",
       "      <td>0.0</td>\n",
       "    </tr>\n",
       "    <tr>\n",
       "      <th>3</th>\n",
       "      <td>10000</td>\n",
       "      <td>1999</td>\n",
       "      <td>0</td>\n",
       "      <td>3.0</td>\n",
       "      <td>0</td>\n",
       "      <td>9999.00</td>\n",
       "      <td>1</td>\n",
       "      <td>9</td>\n",
       "      <td>42</td>\n",
       "      <td>86</td>\n",
       "      <td>...</td>\n",
       "      <td>1.0</td>\n",
       "      <td>0.0</td>\n",
       "      <td>0.0</td>\n",
       "      <td>0.0</td>\n",
       "      <td>0.0</td>\n",
       "      <td>0.0</td>\n",
       "      <td>1.0</td>\n",
       "      <td>1.0</td>\n",
       "      <td>0.0</td>\n",
       "      <td>0.0</td>\n",
       "    </tr>\n",
       "    <tr>\n",
       "      <th>4</th>\n",
       "      <td>280000</td>\n",
       "      <td>2001</td>\n",
       "      <td>0</td>\n",
       "      <td>2.5</td>\n",
       "      <td>0</td>\n",
       "      <td>2134.11</td>\n",
       "      <td>1</td>\n",
       "      <td>14</td>\n",
       "      <td>7</td>\n",
       "      <td>7</td>\n",
       "      <td>...</td>\n",
       "      <td>0.0</td>\n",
       "      <td>0.0</td>\n",
       "      <td>1.0</td>\n",
       "      <td>0.0</td>\n",
       "      <td>0.0</td>\n",
       "      <td>0.0</td>\n",
       "      <td>1.0</td>\n",
       "      <td>1.0</td>\n",
       "      <td>0.0</td>\n",
       "      <td>0.0</td>\n",
       "    </tr>\n",
       "  </tbody>\n",
       "</table>\n",
       "<p>5 rows × 1224 columns</p>\n",
       "</div>"
      ],
      "text/plain": [
       "   odometer_value  year_produced engine_has_gas  engine_capacity has_warranty  \\\n",
       "0          190000           2010              0              2.5            0   \n",
       "1          290000           2002              0              3.0            0   \n",
       "2          402000           2001              0              2.5            0   \n",
       "3           10000           1999              0              3.0            0   \n",
       "4          280000           2001              0              2.5            0   \n",
       "\n",
       "   price_usd is_exchangeable  number_of_photos  up_counter  duration_listed  \\\n",
       "0   10900.00               0                 9          13               16   \n",
       "1    5000.00               1                12          54               83   \n",
       "2    2800.00               1                 4          72              151   \n",
       "3    9999.00               1                 9          42               86   \n",
       "4    2134.11               1                14           7                7   \n",
       "\n",
       "   ...  body_type_8  body_type_9  body_type_10  body_type_11  state_0  \\\n",
       "0  ...          0.0          0.0           1.0           0.0      0.0   \n",
       "1  ...          0.0          0.0           1.0           0.0      0.0   \n",
       "2  ...          0.0          1.0           0.0           0.0      0.0   \n",
       "3  ...          1.0          0.0           0.0           0.0      0.0   \n",
       "4  ...          0.0          0.0           1.0           0.0      0.0   \n",
       "\n",
       "   state_1  state_2  drivetrain_0  drivetrain_1  drivetrain_2  \n",
       "0      0.0      1.0           1.0           0.0           0.0  \n",
       "1      0.0      1.0           1.0           0.0           0.0  \n",
       "2      0.0      1.0           1.0           0.0           0.0  \n",
       "3      0.0      1.0           1.0           0.0           0.0  \n",
       "4      0.0      1.0           1.0           0.0           0.0  \n",
       "\n",
       "[5 rows x 1224 columns]"
      ]
     },
     "execution_count": 10,
     "metadata": {},
     "output_type": "execute_result"
    }
   ],
   "source": [
    "# Print out sample of transformed data\n",
    "data.head()"
   ]
  },
  {
   "cell_type": "code",
   "execution_count": null,
   "metadata": {},
   "outputs": [],
   "source": []
  }
 ],
 "metadata": {
  "kernelspec": {
   "display_name": "Python 3",
   "language": "python",
   "name": "python3"
  },
  "language_info": {
   "codemirror_mode": {
    "name": "ipython",
    "version": 3
   },
   "file_extension": ".py",
   "mimetype": "text/x-python",
   "name": "python",
   "nbconvert_exporter": "python",
   "pygments_lexer": "ipython3",
   "version": "3.8.5"
  }
 },
 "nbformat": 4,
 "nbformat_minor": 4
}
